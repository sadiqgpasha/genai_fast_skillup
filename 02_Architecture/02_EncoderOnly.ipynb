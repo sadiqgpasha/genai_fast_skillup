{
 "cells": [
  {
   "cell_type": "markdown",
   "id": "48a7aa33-8d63-4a70-b532-f48e9dbd0f41",
   "metadata": {},
   "source": [
    "## Encoder Only Architecture"
   ]
  },
  {
   "cell_type": "markdown",
   "id": "546363a6-39e8-4f48-87e2-0a78c78e967c",
   "metadata": {},
   "source": [
    "### What Is an Encoder-Only Transformer?\n",
    "\n",
    "An encoder-only transformer processes input sequences to produce rich, contextualized representations. It’s designed for understanding tasks—not generation.\n",
    "\n",
    "🔹 **Key Characteristics:**\n",
    "- Uses self-attention to model relationships between all tokens in the input.\n",
    "- Processes the entire input bidirectionally (unlike decoder-only models which are autoregressive).\n",
    "- Outputs a contextual embedding for each token.\n",
    "\n",
    "🔹 **Famous Models:**\n",
    "- BERT (Bidirectional Encoder Representations from Transformers)\n",
    "- RoBERTa\n",
    "- DistilBERT\n",
    "- ALBERT\n"
   ]
  },
  {
   "cell_type": "markdown",
   "id": "6e6606af-94af-4d8e-8b80-5d995ce26a6b",
   "metadata": {},
   "source": [
    "![Encoder only](transformer-architectures.png)"
   ]
  },
  {
   "cell_type": "markdown",
   "id": "fc016b6c-9921-4c43-819a-4b38598df2f0",
   "metadata": {},
   "source": [
    "#### ⚙️ Architecture Breakdown\n",
    "\n",
    "1. **Input Embeddings**\n",
    "Each token is embedded using:\n",
    "- Token embeddings (from a vocabulary)\n",
    "- Positional embeddings (to encode order)\n",
    "- Segment embeddings (for sentence pairs)\n",
    "  \n",
    "2. **Multi-Head Self-Attention**\n",
    "Each token attends to every other token in the sequence:\n",
    "- Captures dependencies regardless of distance\n",
    "- Bidirectional: looks both left and right\n",
    "  \n",
    "3. **Feed-Forward Network**\n",
    "Each token’s representation is passed through a fully connected network:\n",
    "- Applies non-linearity and transformation\n",
    "- Shared across all positions\n",
    "  \n",
    "4. **Layer Normalization + Residual Connections**\n",
    "Stabilizes training and helps gradient flow.\n",
    "\n",
    "✅ **Advantages**\n",
    "| Advantage | Description | \n",
    "|----------|-------------|\n",
    "| 🧠 Deep Understanding | Captures rich contextual info from both directions | \n",
    "| 🔍 Great for Classification | Ideal for tasks like sentiment analysis, NER, QA (extractive) | \n",
    "| 🧩 Modular | Can be used as a feature extractor for downstream tasks | \n",
    "| 🏋️‍♂️ Pretrained Models | Many pretrained models available (BERT, RoBERTa, etc.) | \n",
    "\n",
    "\n",
    "\n",
    "❌ **Disadvantages**\n",
    "| Disadvantage | Description | \n",
    "|---------------|--------------|\n",
    "| 🚫 Not Generative | Cannot generate text (no decoder) | \n",
    "| 🐘 Memory Intensive | Self-attention scales quadratically with sequence length | \n",
    "| 🧱 Fixed Input Length | Limited by max token length (e.g., 512 for BERT) | \n",
    "| 🔄 No Autoregression | Not suitable for tasks like text completion or summarization | \n",
    "\n",
    "\n"
   ]
  },
  {
   "cell_type": "markdown",
   "id": "5cff6bb9-22f6-4373-bb44-93a264ed2844",
   "metadata": {},
   "source": [
    "🧪 **Python Code: Using BERT for Sentence Embeddings**\n",
    "\n",
    "Let’s use Hugging Face Transformers to extract embeddings from BERT."
   ]
  },
  {
   "cell_type": "code",
   "execution_count": 3,
   "id": "8c02ed2b-b560-4ea8-a82e-73014a01c5b9",
   "metadata": {},
   "outputs": [
    {
     "name": "stdout",
     "output_type": "stream",
     "text": [
      "Sentence embedding shape: torch.Size([1, 768])\n"
     ]
    }
   ],
   "source": [
    "\n",
    "from transformers import BertTokenizer, BertModel\n",
    "import torch\n",
    "from tqdm import tqdm\n",
    "\n",
    "\n",
    "# Load pre-trained BERT model and tokenizer\n",
    "tokenizer = BertTokenizer.from_pretrained('bert-base-uncased')\n",
    "model = BertModel.from_pretrained('bert-base-uncased')\n",
    "\n",
    "# Input sentence\n",
    "sentence = \"Transformers are powerful models for NLP tasks.\"\n",
    "\n",
    "# Tokenize and convert to tensor\n",
    "inputs = tokenizer(sentence, return_tensors='pt')\n",
    "\n",
    "# Get hidden states from BERT\n",
    "with torch.no_grad():\n",
    "    outputs = model(**inputs)\n",
    "    last_hidden_state = outputs.last_hidden_state  # shape: [1, seq_len, 768]\n",
    "\n",
    "# Mean pooling to get sentence embedding\n",
    "attention_mask = inputs['attention_mask']\n",
    "mask_expanded = attention_mask.unsqueeze(-1).expand(last_hidden_state.size())\n",
    "sum_embeddings = torch.sum(last_hidden_state * mask_expanded, 1)\n",
    "sum_mask = torch.clamp(mask_expanded.sum(1), min=1e-9)\n",
    "sentence_embedding = sum_embeddings / sum_mask\n",
    "\n",
    "print(\"Sentence embedding shape:\", sentence_embedding.shape)\n"
   ]
  },
  {
   "cell_type": "markdown",
   "id": "73165efd-5bac-4242-8752-86e10ee39ea6",
   "metadata": {},
   "source": [
    "**Another example for text classification**\n",
    "\n",
    "We'll fine-tune BERT to classify sentences into categories (e.g., positive/negative sentiment)."
   ]
  },
  {
   "cell_type": "code",
   "execution_count": 6,
   "id": "10b4340e-99d4-44de-84c7-e86aa2127afe",
   "metadata": {},
   "outputs": [
    {
     "name": "stderr",
     "output_type": "stream",
     "text": [
      "Map: 100%|██████████████████████████████████████████████████████████████████| 1600/1600 [00:02<00:00, 589.62 examples/s]\n",
      "Map: 100%|████████████████████████████████████████████████████████████████████| 400/400 [00:00<00:00, 591.44 examples/s]\n",
      "Some weights of BertForSequenceClassification were not initialized from the model checkpoint at bert-base-uncased and are newly initialized: ['classifier.bias', 'classifier.weight']\n",
      "You should probably TRAIN this model on a down-stream task to be able to use it for predictions and inference.\n"
     ]
    },
    {
     "data": {
      "text/html": [
       "\n",
       "    <div>\n",
       "      \n",
       "      <progress value='400' max='400' style='width:300px; height:20px; vertical-align: middle;'></progress>\n",
       "      [400/400 01:15, Epoch 2/2]\n",
       "    </div>\n",
       "    <table border=\"1\" class=\"dataframe\">\n",
       "  <thead>\n",
       " <tr style=\"text-align: left;\">\n",
       "      <th>Epoch</th>\n",
       "      <th>Training Loss</th>\n",
       "      <th>Validation Loss</th>\n",
       "    </tr>\n",
       "  </thead>\n",
       "  <tbody>\n",
       "    <tr>\n",
       "      <td>1</td>\n",
       "      <td>No log</td>\n",
       "      <td>0.000075</td>\n",
       "    </tr>\n",
       "    <tr>\n",
       "      <td>2</td>\n",
       "      <td>No log</td>\n",
       "      <td>0.000053</td>\n",
       "    </tr>\n",
       "  </tbody>\n",
       "</table><p>"
      ],
      "text/plain": [
       "<IPython.core.display.HTML object>"
      ]
     },
     "metadata": {},
     "output_type": "display_data"
    },
    {
     "data": {
      "text/plain": [
       "TrainOutput(global_step=400, training_loss=0.007759683132171631, metrics={'train_runtime': 76.3164, 'train_samples_per_second': 41.931, 'train_steps_per_second': 5.241, 'total_flos': 841955377152000.0, 'train_loss': 0.007759683132171631, 'epoch': 2.0})"
      ]
     },
     "execution_count": 6,
     "metadata": {},
     "output_type": "execute_result"
    }
   ],
   "source": [
    "from transformers import BertTokenizer, BertForSequenceClassification, Trainer, TrainingArguments\n",
    "from datasets import load_dataset\n",
    "import torch\n",
    "from tqdm import tqdm\n",
    "\n",
    "# Load dataset (binary sentiment classification)\n",
    "dataset = load_dataset(\"imdb\", split=\"train[:2000]\").train_test_split(test_size=0.2)\n",
    "\n",
    "# Load tokenizer and tokenize dataset\n",
    "tokenizer = BertTokenizer.from_pretrained(\"bert-base-uncased\")\n",
    "\n",
    "def tokenize_function(example):\n",
    "    return tokenizer(example[\"text\"], padding=\"max_length\", truncation=True)\n",
    "\n",
    "tokenized_dataset = dataset.map(tokenize_function, batched=True)\n",
    "tokenized_dataset.set_format(\"torch\", columns=[\"input_ids\", \"attention_mask\", \"label\"])\n",
    "\n",
    "# Load model\n",
    "model = BertForSequenceClassification.from_pretrained(\"bert-base-uncased\", num_labels=2)\n",
    "\n",
    "# Training setup\n",
    "training_args = TrainingArguments(\n",
    "    output_dir=\"./results\",\n",
    "    eval_strategy=\"epoch\",\n",
    "    per_device_train_batch_size=8,\n",
    "    per_device_eval_batch_size=8,\n",
    "    num_train_epochs=2,\n",
    "    logging_dir=\"./logs\",\n",
    ")\n",
    "\n",
    "trainer = Trainer(\n",
    "    model=model,\n",
    "    args=training_args,\n",
    "    train_dataset=tokenized_dataset[\"train\"],\n",
    "    eval_dataset=tokenized_dataset[\"test\"],\n",
    ")\n",
    "\n",
    "# Train the model\n",
    "trainer.train()"
   ]
  },
  {
   "cell_type": "markdown",
   "id": "cfa752d6-0f39-42fe-8b51-06f7103f9528",
   "metadata": {},
   "source": [
    "**Visualizing Sentence Classification Prediction**"
   ]
  },
  {
   "cell_type": "code",
   "execution_count": 7,
   "id": "05c31ea6-f6f1-4522-aa62-1bd377180dbe",
   "metadata": {},
   "outputs": [
    {
     "name": "stderr",
     "output_type": "stream",
     "text": [
      "Some weights of BertForSequenceClassification were not initialized from the model checkpoint at bert-base-uncased and are newly initialized: ['classifier.bias', 'classifier.weight']\n",
      "You should probably TRAIN this model on a down-stream task to be able to use it for predictions and inference.\n"
     ]
    },
    {
     "name": "stdout",
     "output_type": "stream",
     "text": [
      "Sentence: The movie was absolutely fantastic!\n",
      "Predicted Sentiment: Negative (Confidence: 0.60)\n"
     ]
    }
   ],
   "source": [
    "from transformers import BertTokenizer, BertForSequenceClassification\n",
    "import torch\n",
    "import torch.nn.functional as F\n",
    "\n",
    "# Load model and tokenizer\n",
    "model = BertForSequenceClassification.from_pretrained(\"bert-base-uncased\", num_labels=2)\n",
    "tokenizer = BertTokenizer.from_pretrained(\"bert-base-uncased\")\n",
    "model.eval()\n",
    "\n",
    "# Sample sentence\n",
    "sentence = \"The movie was absolutely fantastic!\"\n",
    "\n",
    "# Tokenize\n",
    "inputs = tokenizer(sentence, return_tensors=\"pt\")\n",
    "\n",
    "# Predict\n",
    "with torch.no_grad():\n",
    "    logits = model(**inputs).logits\n",
    "    probs = F.softmax(logits, dim=-1)\n",
    "    predicted_class = torch.argmax(probs).item()\n",
    "\n",
    "# Label mapping\n",
    "label_map = {0: \"Negative\", 1: \"Positive\"}\n",
    "\n",
    "# Print result\n",
    "print(f\"Sentence: {sentence}\")\n",
    "print(f\"Predicted Sentiment: {label_map[predicted_class]} (Confidence: {probs[0][predicted_class]:.2f})\")"
   ]
  },
  {
   "cell_type": "code",
   "execution_count": 8,
   "id": "85c9cc77-cfd5-4517-a7d4-1902f88f4114",
   "metadata": {},
   "outputs": [
    {
     "data": {
      "image/png": "[encoded data removed]",
      "text/plain": [
       "<Figure size 640x480 with 1 Axes>"
      ]
     },
     "metadata": {},
     "output_type": "display_data"
    }
   ],
   "source": [
    "import matplotlib.pyplot as plt\n",
    "\n",
    "labels = [\"Negative\", \"Positive\"]\n",
    "plt.bar(labels, probs[0].numpy(), color=[\"red\", \"green\"])\n",
    "plt.title(\"Sentiment Prediction\")\n",
    "plt.ylabel(\"Probability\")\n",
    "plt.show()"
   ]
  },
  {
   "cell_type": "markdown",
   "id": "953a9740-e4c8-4a9f-98ee-b173f04efad0",
   "metadata": {},
   "source": [
    "**Another example for NER using Encoder Only BERT Model**\n",
    "\n",
    "NER is a token classification task—each token is labeled (e.g., PER, LOC, ORG).\n",
    "\n",
    "🧾 Example using the CoNLL-2003 dataset"
   ]
  },
  {
   "cell_type": "code",
   "execution_count": 17,
   "id": "84b2c69d-abcf-422d-9ad1-d18572f3ec4f",
   "metadata": {},
   "outputs": [
    {
     "name": "stderr",
     "output_type": "stream",
     "text": [
      "Map: 100%|█████████████████████████████████████████████████████████████████| 3453/3453 [00:00<00:00, 8242.28 examples/s]\n",
      "Some weights of BertForTokenClassification were not initialized from the model checkpoint at bert-base-cased and are newly initialized: ['classifier.bias', 'classifier.weight']\n",
      "You should probably TRAIN this model on a down-stream task to be able to use it for predictions and inference.\n"
     ]
    },
    {
     "data": {
      "text/html": [
       "\n",
       "    <div>\n",
       "      \n",
       "      <progress value='5268' max='5268' style='width:300px; height:20px; vertical-align: middle;'></progress>\n",
       "      [5268/5268 05:09, Epoch 3/3]\n",
       "    </div>\n",
       "    <table border=\"1\" class=\"dataframe\">\n",
       "  <thead>\n",
       " <tr style=\"text-align: left;\">\n",
       "      <th>Epoch</th>\n",
       "      <th>Training Loss</th>\n",
       "      <th>Validation Loss</th>\n",
       "      <th>Precision</th>\n",
       "      <th>Recall</th>\n",
       "      <th>F1</th>\n",
       "      <th>Accuracy</th>\n",
       "    </tr>\n",
       "  </thead>\n",
       "  <tbody>\n",
       "    <tr>\n",
       "      <td>1</td>\n",
       "      <td>0.051700</td>\n",
       "      <td>0.047736</td>\n",
       "      <td>0.915919</td>\n",
       "      <td>0.928571</td>\n",
       "      <td>0.922202</td>\n",
       "      <td>0.987160</td>\n",
       "    </tr>\n",
       "    <tr>\n",
       "      <td>2</td>\n",
       "      <td>0.020100</td>\n",
       "      <td>0.048114</td>\n",
       "      <td>0.941900</td>\n",
       "      <td>0.942217</td>\n",
       "      <td>0.942058</td>\n",
       "      <td>0.989985</td>\n",
       "    </tr>\n",
       "    <tr>\n",
       "      <td>3</td>\n",
       "      <td>0.010100</td>\n",
       "      <td>0.041749</td>\n",
       "      <td>0.947766</td>\n",
       "      <td>0.950640</td>\n",
       "      <td>0.949201</td>\n",
       "      <td>0.991368</td>\n",
       "    </tr>\n",
       "  </tbody>\n",
       "</table><p>"
      ],
      "text/plain": [
       "<IPython.core.display.HTML object>"
      ]
     },
     "metadata": {},
     "output_type": "display_data"
    },
    {
     "data": {
      "text/html": [
       "\n",
       "    <div>\n",
       "      \n",
       "      <progress value='1221' max='407' style='width:300px; height:20px; vertical-align: middle;'></progress>\n",
       "      [407/407 03:10]\n",
       "    </div>\n",
       "    "
      ],
      "text/plain": [
       "<IPython.core.display.HTML object>"
      ]
     },
     "metadata": {},
     "output_type": "display_data"
    },
    {
     "ename": "KeyError",
     "evalue": "'precision'",
     "output_type": "error",
     "traceback": [
      "\u001b[31m---------------------------------------------------------------------------\u001b[39m",
      "\u001b[31mKeyError\u001b[39m                                  Traceback (most recent call last)",
      "\u001b[36mCell\u001b[39m\u001b[36m \u001b[39m\u001b[32mIn[17]\u001b[39m\u001b[32m, line 124\u001b[39m\n\u001b[32m    122\u001b[39m \u001b[38;5;66;03m# 8) Plot overall metrics\u001b[39;00m\n\u001b[32m    123\u001b[39m names  = [\u001b[33m\"\u001b[39m\u001b[33mprecision\u001b[39m\u001b[33m\"\u001b[39m, \u001b[33m\"\u001b[39m\u001b[33mrecall\u001b[39m\u001b[33m\"\u001b[39m, \u001b[33m\"\u001b[39m\u001b[33mf1\u001b[39m\u001b[33m\"\u001b[39m, \u001b[33m\"\u001b[39m\u001b[33maccuracy\u001b[39m\u001b[33m\"\u001b[39m]\n\u001b[32m--> \u001b[39m\u001b[32m124\u001b[39m values = [metrics[n] \u001b[38;5;28;01mfor\u001b[39;00m n \u001b[38;5;129;01min\u001b[39;00m names]\n\u001b[32m    126\u001b[39m plt.figure(figsize=(\u001b[32m6\u001b[39m,\u001b[32m4\u001b[39m))\n\u001b[32m    127\u001b[39m bars = plt.bar(names, values, color=[\u001b[33m\"\u001b[39m\u001b[33mC0\u001b[39m\u001b[33m\"\u001b[39m,\u001b[33m\"\u001b[39m\u001b[33mC1\u001b[39m\u001b[33m\"\u001b[39m,\u001b[33m\"\u001b[39m\u001b[33mC2\u001b[39m\u001b[33m\"\u001b[39m,\u001b[33m\"\u001b[39m\u001b[33mC3\u001b[39m\u001b[33m\"\u001b[39m])\n",
      "\u001b[36mCell\u001b[39m\u001b[36m \u001b[39m\u001b[32mIn[17]\u001b[39m\u001b[32m, line 124\u001b[39m, in \u001b[36m<listcomp>\u001b[39m\u001b[34m(.0)\u001b[39m\n\u001b[32m    122\u001b[39m \u001b[38;5;66;03m# 8) Plot overall metrics\u001b[39;00m\n\u001b[32m    123\u001b[39m names  = [\u001b[33m\"\u001b[39m\u001b[33mprecision\u001b[39m\u001b[33m\"\u001b[39m, \u001b[33m\"\u001b[39m\u001b[33mrecall\u001b[39m\u001b[33m\"\u001b[39m, \u001b[33m\"\u001b[39m\u001b[33mf1\u001b[39m\u001b[33m\"\u001b[39m, \u001b[33m\"\u001b[39m\u001b[33maccuracy\u001b[39m\u001b[33m\"\u001b[39m]\n\u001b[32m--> \u001b[39m\u001b[32m124\u001b[39m values = [metrics[n] \u001b[38;5;28;01mfor\u001b[39;00m n \u001b[38;5;129;01min\u001b[39;00m names]\n\u001b[32m    126\u001b[39m plt.figure(figsize=(\u001b[32m6\u001b[39m,\u001b[32m4\u001b[39m))\n\u001b[32m    127\u001b[39m bars = plt.bar(names, values, color=[\u001b[33m\"\u001b[39m\u001b[33mC0\u001b[39m\u001b[33m\"\u001b[39m,\u001b[33m\"\u001b[39m\u001b[33mC1\u001b[39m\u001b[33m\"\u001b[39m,\u001b[33m\"\u001b[39m\u001b[33mC2\u001b[39m\u001b[33m\"\u001b[39m,\u001b[33m\"\u001b[39m\u001b[33mC3\u001b[39m\u001b[33m\"\u001b[39m])\n",
      "\u001b[31mKeyError\u001b[39m: 'precision'"
     ]
    }
   ],
   "source": [
    "import torch\n",
    "import numpy as np\n",
    "import matplotlib.pyplot as plt\n",
    "from termcolor import colored\n",
    "\n",
    "from transformers import (\n",
    "    BertTokenizerFast,\n",
    "    BertForTokenClassification,\n",
    "    Trainer,\n",
    "    TrainingArguments,\n",
    ")\n",
    "from datasets import load_dataset\n",
    "import evaluate\n",
    "\n",
    "# 1) Load CoNLL-2003 NER dataset\n",
    "raw_datasets = load_dataset(\"conll2003\")\n",
    "\n",
    "# 2) Prepare tokenizer & label maps\n",
    "tokenizer = BertTokenizerFast.from_pretrained(\"bert-base-cased\")\n",
    "\n",
    "label_list = raw_datasets[\"train\"].features[\"ner_tags\"].feature.names\n",
    "id2label = {i: lab for i, lab in enumerate(label_list)}\n",
    "label2id = {lab: i for i, lab in id2label.items()}\n",
    "\n",
    "# 3) Tokenize + align labels\n",
    "def tokenize_and_align_labels(examples):\n",
    "    # Tokenize input tokens (batch)\n",
    "    tokenized_inputs = tokenizer(\n",
    "        examples[\"tokens\"],\n",
    "        is_split_into_words=True,\n",
    "        truncation=True,\n",
    "        padding=\"max_length\",\n",
    "        max_length=128,\n",
    "    )\n",
    "\n",
    "    all_labels = []\n",
    "    for i, word_labels in enumerate(examples[\"ner_tags\"]):\n",
    "        word_ids = tokenized_inputs.word_ids(batch_index=i)\n",
    "        previous_word_idx = None\n",
    "        label_ids = []\n",
    "\n",
    "        for word_idx in word_ids:\n",
    "            if word_idx is None:\n",
    "                # Special/token padding\n",
    "                label_ids.append(-100)\n",
    "            elif word_idx != previous_word_idx:\n",
    "                # First token of a word\n",
    "                label_ids.append(word_labels[word_idx])\n",
    "            else:\n",
    "                # Subsequent subword tokens\n",
    "                label_ids.append(-100)\n",
    "            previous_word_idx = word_idx\n",
    "\n",
    "        all_labels.append(label_ids)\n",
    "\n",
    "    tokenized_inputs[\"labels\"] = all_labels\n",
    "    return tokenized_inputs\n",
    "\n",
    "tokenized_datasets = raw_datasets.map(\n",
    "    tokenize_and_align_labels,\n",
    "    batched=True,\n",
    "    remove_columns=raw_datasets[\"train\"].column_names,\n",
    ")\n",
    "tokenized_datasets.set_format(\"torch\")\n",
    "\n",
    "# 4) Load model with label mappings\n",
    "model = BertForTokenClassification.from_pretrained(\n",
    "    \"bert-base-cased\",\n",
    "    num_labels=len(label_list),\n",
    "    id2label=id2label,\n",
    "    label2id=label2id,\n",
    ")\n",
    "\n",
    "# 5) Prepare seqeval metric\n",
    "seqeval = evaluate.load(\"seqeval\")\n",
    "\n",
    "def compute_metrics(p):\n",
    "    logits, labels = p\n",
    "    preds = np.argmax(logits, axis=-1)\n",
    "\n",
    "    # Remove ignored index (-100) and convert IDs to labels\n",
    "    true_labels = [\n",
    "        [id2label[l] for l in lab_seq if l != -100]\n",
    "        for lab_seq in labels\n",
    "    ]\n",
    "    pred_labels = [\n",
    "        [id2label[p_] for (p_, l_) in zip(pred_seq, lab_seq) if l_ != -100]\n",
    "        for pred_seq, lab_seq in zip(preds, labels)\n",
    "    ]\n",
    "\n",
    "    results = seqeval.compute(predictions=pred_labels, references=true_labels)\n",
    "    return {\n",
    "        \"precision\": results[\"overall_precision\"],\n",
    "        \"recall\":    results[\"overall_recall\"],\n",
    "        \"f1\":        results[\"overall_f1\"],\n",
    "        \"accuracy\":  results[\"overall_accuracy\"],\n",
    "    }\n",
    "\n",
    "# 6) Training arguments & Trainer\n",
    "training_args = TrainingArguments(\n",
    "    output_dir=\"./ner_results\",\n",
    "    eval_strategy=\"epoch\",\n",
    "    save_strategy=\"epoch\",\n",
    "    per_device_train_batch_size=8,\n",
    "    per_device_eval_batch_size=8,\n",
    "    num_train_epochs=3,\n",
    "    logging_dir=\"./ner_logs\",\n",
    ")\n",
    "\n",
    "trainer = Trainer(\n",
    "    model=model,\n",
    "    args=training_args,\n",
    "    train_dataset=tokenized_datasets[\"train\"],\n",
    "    eval_dataset=tokenized_datasets[\"validation\"],\n",
    "    compute_metrics=compute_metrics,\n",
    ")\n",
    "\n",
    "# 7) Train & evaluate\n",
    "trainer.train()\n"
   ]
  },
  {
   "cell_type": "code",
   "execution_count": 19,
   "id": "c39760a4-4dec-440c-93bd-bdcb70451f8b",
   "metadata": {},
   "outputs": [
    {
     "data": {
      "image/png": "[encoded data removed]",
      "text/plain": [
       "<Figure size 600x400 with 1 Axes>"
      ]
     },
     "metadata": {},
     "output_type": "display_data"
    }
   ],
   "source": [
    "metrics = trainer.evaluate()\n",
    "\n",
    "# Build a mapping from short name → eval_key\n",
    "metric_names = [\"precision\", \"recall\", \"f1\", \"accuracy\"]\n",
    "eval_keys    = [f\"eval_{m}\" for m in metric_names]\n",
    "values       = [metrics[k] for k in eval_keys]\n",
    "\n",
    "# Now you can plot\n",
    "import matplotlib.pyplot as plt\n",
    "\n",
    "plt.figure(figsize=(6, 4))\n",
    "bars = plt.bar(metric_names, values, color=[\"C0\",\"C1\",\"C2\",\"C3\"])\n",
    "plt.ylim(0, 1.0)\n",
    "plt.title(\"CoNLL-2003 NER Performance\")\n",
    "\n",
    "for bar, v in zip(bars, values):\n",
    "    plt.text(\n",
    "        bar.get_x() + bar.get_width() / 2,\n",
    "        v + 0.02,\n",
    "        f\"{v:.2f}\",\n",
    "        ha=\"center\"\n",
    "    )\n",
    "\n",
    "plt.show()"
   ]
  },
  {
   "cell_type": "markdown",
   "id": "c84a4e72-a3d9-4510-bc3d-4181cdcdf236",
   "metadata": {},
   "source": [
    "🧠 Summary\n",
    "| Task | Model Used | Output Type | \n",
    "|---------|------------|----------|\n",
    "| Sentence Classification | BertForSequenceClassification | One label per sentence | \n",
    "| Named Entity Recognition | BertForTokenClassification | One label per token | \n",
    "\n",
    "\n",
    "Both tasks leverage the encoder-only architecture of BERT, but with different heads: one for sentence-level classification, and one for token-level tagging.\n"
   ]
  },
  {
   "cell_type": "code",
   "execution_count": null,
   "id": "165a1cb9-46fc-4e1e-8a39-9e714afd58a1",
   "metadata": {},
   "outputs": [],
   "source": []
  }
 ],
 "metadata": {
  "kernelspec": {
   "display_name": "Python 3 (ipykernel)",
   "language": "python",
   "name": "python3"
  },
  "language_info": {
   "codemirror_mode": {
    "name": "ipython",
    "version": 3
   },
   "file_extension": ".py",
   "mimetype": "text/x-python",
   "name": "python",
   "nbconvert_exporter": "python",
   "pygments_lexer": "ipython3",
   "version": "3.11.13"
  }
 },
 "nbformat": 4,
 "nbformat_minor": 5
}
